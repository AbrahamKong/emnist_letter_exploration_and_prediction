{
  "nbformat": 4,
  "nbformat_minor": 0,
  "metadata": {
    "colab": {
      "name": "Streamlit_Final.ipynb",
      "provenance": [],
      "collapsed_sections": [],
      "authorship_tag": "ABX9TyNbg8bYhAamfzAKHPfqb4Y+",
      "include_colab_link": true
    },
    "kernelspec": {
      "display_name": "Python 3",
      "name": "python3"
    },
    "language_info": {
      "name": "python"
    },
    "accelerator": "TPU"
  },
  "cells": [
    {
      "cell_type": "markdown",
      "metadata": {
        "id": "view-in-github",
        "colab_type": "text"
      },
      "source": [
        "<a href=\"https://colab.research.google.com/github/coryroyce/wiki_based_nlp_chat_bot/blob/main/Streamlit_Final.ipynb\" target=\"_parent\"><img src=\"https://colab.research.google.com/assets/colab-badge.svg\" alt=\"Open In Colab\"/></a>"
      ]
    },
    {
      "cell_type": "code",
      "metadata": {
        "id": "4IzK__Ff1yNU"
      },
      "source": [
        "#install necessary packages and modules\n",
        "! pip install wikipedia\n",
        "! pip install transformers\n",
        "! pip install spacy_universal_sentence_encoder\n",
        "! python -m spacy download en_core_web_lg\n",
        "! pip install streamlit\n",
        "! pip install flatten_json"
      ],
      "execution_count": null,
      "outputs": []
    },
    {
      "cell_type": "code",
      "metadata": {
        "colab": {
          "base_uri": "https://localhost:8080/"
        },
        "id": "3fkV155nzsCM",
        "outputId": "39f4977e-c736-43b8-e4d5-e6f2d571d311"
      },
      "source": [
        "%%writefile app.py\n",
        "\n",
        "import spacy\n",
        "import pandas as pd\n",
        "import spacy_universal_sentence_encoder\n",
        "from ContextExtraction import ContextExtraction\n",
        "from DocumentRetrival import DocumentRetrival\n",
        "from DataWrangling import DataWrangler\n",
        "from ContextSimilarity import ContextSimilarity\n",
        "from MLModel import MLModel\n",
        "import streamlit as st\n",
        "import requests\n",
        "from flatten_json import flatten\n",
        "import re\n",
        "from spacy.lang.en import English\n",
        "\n",
        "@st.cache(hash_funcs={spacy.lang.en.English:id})\n",
        "def nlp_models():\n",
        "  nlp = spacy.load('en_core_web_lg')\n",
        "    # Load Universal Sentence Encoder and later find context similarity for ranking paragraphs\n",
        "  use_nlp = spacy_universal_sentence_encoder.load_model('en_use_lg')\n",
        "  return nlp,use_nlp\n",
        "\n",
        "nlp,use_nlp = nlp_models()\n",
        "  \n",
        "with st.form(key='my_form'):\n",
        "    question = st.text_input('Type your query', 'who is mark zuckerberg?')\n",
        "    submit_button = st.form_submit_button(label='Submit')\n",
        "\n",
        "if submit_button:\n",
        "  #create a Document retrival object\n",
        "  doc_retrive_obj = DocumentRetrival(nlp)\n",
        "\n",
        "  #call UserInput func to get query input\n",
        "  query = doc_retrive_obj.UserInput(question)\n",
        "\n",
        "  #call preprocess func to preprocess query if required\n",
        "  doc_retrive_obj.PreprocessUserInput()\n",
        "\n",
        "  #call Retrive func with required top_n docs for retrival from Wiki\n",
        "  pages = doc_retrive_obj.Retrive(4)\n",
        "\n",
        "  #create a Extraction retrival object\n",
        "  context_extract_obj = ContextExtraction(nlp)\n",
        "\n",
        "  # Create a spacy matcher for the user query to parse the pages\n",
        "  context_extract_obj.AddPhraseMatcher(query)\n",
        "\n",
        "  # extract necessary context\n",
        "  context_extract_obj.RetriveMatch(pages)\n",
        "\n",
        "  # convert to pandas df\n",
        "  text = context_extract_obj.StoreFindingAsDf()\n",
        "\n",
        "  # store_results in csv for further reference\n",
        "  text.to_csv(\"Matching_Wiki_contexts.csv\")\n",
        "\n",
        "  #create a Data Wrangler object\n",
        "  data_wrangler_obj = DataWrangler(nlp)\n",
        "\n",
        "  #cleaned Dataframe\n",
        "  cleaned_df = data_wrangler_obj.DataWranglerDf(text)\n",
        "\n",
        "  #canonical_df\n",
        "  canonicaldf = data_wrangler_obj.lemmatization(cleaned_df)\n",
        "\n",
        "  # store_results in csv for further reference\n",
        "  cleaned_df.to_csv(\"Cleaned_Wiki_contexts.csv\")\n",
        "\n",
        "  #create a Context Similarity object\n",
        "  context_similarity_obj = ContextSimilarity(use_nlp)\n",
        "\n",
        "  #find the Similarites of Different context\n",
        "  con_list = context_similarity_obj.ContextSimilarity(query,cleaned_df['Wikipedia_Paragraphs'])\n",
        "\n",
        "  context_similarity_df = context_similarity_obj.ConvertToDf(con_list)\n",
        "\n",
        "  Merged_Df = context_similarity_obj.MergeDf(context_similarity_df,cleaned_df)\n",
        "\n",
        "  #retreive top N rows from dataframe\n",
        "  TopNDf = context_similarity_obj.TopNSimilarityDf(Merged_Df,top_n=20)\n",
        "\n",
        "  #create a ML Model object\n",
        "  ML_Model_obj = MLModel()\n",
        "\n",
        "  #call the Roberta model\n",
        "  roberta_finding = ML_Model_obj.RobertaModel(TopNDf,query)\n",
        "\n",
        "  #final Df post model prediction\n",
        "  Final_DF = ML_Model_obj.ConverttoDf()\n",
        "\n",
        "  #filtering only top N out of it.\n",
        "  Results = ML_Model_obj.TopNDf(Final_DF,top_n=5)\n",
        "  Results['Imageapi'] = 'https://en.wikipedia.org/w/api.php?action=query&titles='+ Results['Wiki_Page'].astype('str').str.extract(pat = \"('.*')\").replace(\"'\", '', regex=True) + '&prop=pageimages&format=json&pithumbsize=100'\n",
        "  Results['Wiki_Page'] = 'https://en.wikipedia.org/wiki/' + Results['Wiki_Page'].astype('str').str.extract(pat = \"('.*')\").replace(\"'\", '', regex=True)\n",
        "  Results['Wiki_Page'] = Results['Wiki_Page'].replace(\" \", '_', regex=True)\n",
        "  Results.to_csv('final_results.csv')\n",
        "  for index, row in Results.iterrows():\n",
        "    st.markdown('**{0}**'.format(row['Prediction'].upper()))\n",
        "    r = requests.get(row['Imageapi'])\n",
        "    test = r.json()\n",
        "    flat_json = flatten(test)\n",
        "    for x,y in flat_json.items():\n",
        "      if re.findall('https.*',str(y)):\n",
        "        st.image(y)\n",
        "    st.markdown('_wiki:_ **{0}**'.format(row['Wiki_Page']))\n",
        "    cont = '<p style=\"font-family:sans-serif; color:black; font-size: 8px;\">{0}</p>'.format(row['Context'])\n",
        "    st.write(cont,unsafe_allow_html=True)"
      ],
      "execution_count": 10,
      "outputs": [
        {
          "output_type": "stream",
          "name": "stdout",
          "text": [
            "Overwriting app.py\n"
          ]
        }
      ]
    },
    {
      "cell_type": "code",
      "metadata": {
        "id": "FNbrQs9a24vg",
        "colab": {
          "base_uri": "https://localhost:8080/"
        },
        "outputId": "24d56408-96f2-47ce-8592-dc7c2b170656"
      },
      "source": [
        "! streamlit run app.py & npx localtunnel --port 8501"
      ],
      "execution_count": 11,
      "outputs": [
        {
          "output_type": "stream",
          "name": "stdout",
          "text": [
            "\u001b[34m  Stopping...\u001b[0m\n",
            "^C\n"
          ]
        }
      ]
    }
  ]
}