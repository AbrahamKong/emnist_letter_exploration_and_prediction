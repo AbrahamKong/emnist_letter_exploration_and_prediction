{
  "nbformat": 4,
  "nbformat_minor": 0,
  "metadata": {
    "colab": {
      "name": "Streamlit_App.ipynb",
      "provenance": [],
      "collapsed_sections": [],
      "authorship_tag": "ABX9TyNLBtfR4NkQJlmW8QbW6Pku",
      "include_colab_link": true
    },
    "kernelspec": {
      "name": "python3",
      "display_name": "Python 3"
    },
    "language_info": {
      "name": "python"
    }
  },
  "cells": [
    {
      "cell_type": "markdown",
      "metadata": {
        "id": "view-in-github",
        "colab_type": "text"
      },
      "source": [
        "<a href=\"https://colab.research.google.com/github/coryroyce/emnist_letter_exploration_and_prediction/blob/main/streamlit_application/Streamlit_App.ipynb\" target=\"_parent\"><img src=\"https://colab.research.google.com/assets/colab-badge.svg\" alt=\"Open In Colab\"/></a>"
      ]
    },
    {
      "cell_type": "markdown",
      "metadata": {
        "id": "4X-J0Qe4zE4S"
      },
      "source": [
        "# Streamlit App - Letter Classification\n",
        "\n",
        "Updated: 12/6/2021"
      ]
    },
    {
      "cell_type": "markdown",
      "metadata": {
        "id": "h_wwtqVmFuC4"
      },
      "source": [
        "Goal: Create an app wrapper for the letter prediction model. "
      ]
    },
    {
      "cell_type": "markdown",
      "metadata": {
        "id": "dZhkwl-_GCoi"
      },
      "source": [
        "# Install Streamlit"
      ]
    },
    {
      "cell_type": "code",
      "metadata": {
        "id": "Jc8PDdp_FtIr"
      },
      "source": [
        "!pip install streamlit -q\n",
        "!pip install streamlit-drawable-canvas\n",
        "!pip install ipykernel>=5.1.2\n",
        "!pip install pydeck\n",
        "\n",
        "# Clear output for this cell\n",
        "from IPython.display import clear_output\n",
        "clear_output()"
      ],
      "execution_count": 1,
      "outputs": []
    },
    {
      "cell_type": "markdown",
      "metadata": {
        "id": "GhqpvHIYVc0y"
      },
      "source": [
        "Note: Before running these files you need to load the mnsit.hdf5 file into Colab so that it can load the model."
      ]
    },
    {
      "cell_type": "code",
      "metadata": {
        "colab": {
          "base_uri": "https://localhost:8080/"
        },
        "id": "d8ota7cU_48R",
        "outputId": "6a8e810e-41c0-4c28-9e75-e3753427b156"
      },
      "source": [
        "model_name = 'model_conv_v01'\n",
        "!unzip /content/{model_name}.zip"
      ],
      "execution_count": 2,
      "outputs": [
        {
          "output_type": "stream",
          "name": "stdout",
          "text": [
            "Archive:  /content/model_conv_v01.zip\n",
            "   creating: model_conv_v01/\n",
            "   creating: model_conv_v01/assets/\n",
            "   creating: model_conv_v01/variables/\n",
            "  inflating: model_conv_v01/variables/variables.data-00000-of-00001  \n",
            "  inflating: model_conv_v01/variables/variables.index  \n",
            "  inflating: model_conv_v01/keras_metadata.pb  \n",
            "  inflating: model_conv_v01/saved_model.pb  \n"
          ]
        }
      ]
    },
    {
      "cell_type": "code",
      "metadata": {
        "colab": {
          "base_uri": "https://localhost:8080/"
        },
        "id": "fxaxZK7uTLIg",
        "outputId": "f1bb9397-08c2-40dd-df5e-fc78bba27e85"
      },
      "source": [
        "%%writefile app.py\n",
        "import streamlit as st\n",
        "from streamlit_drawable_canvas import st_canvas\n",
        "import tensorflow as tf\n",
        "from tensorflow import keras\n",
        "import cv2\n",
        "import numpy as np\n",
        "import pandas as pd\n",
        "import plotly.express as px\n",
        "\n",
        "# Load in the pre-trained model\n",
        "model = tf.keras.models.load_model('/content/model_conv_v01')\n",
        "\n",
        "# Define some valiables and helper functions\n",
        "labels_caps = [\n",
        "               'A','B','C','D','E','F','G','H','I','J','K','L','M','N','O','P','Q','R','S','T','U','V','W','X','Y','Z',\n",
        "              ]\n",
        "labels_dict_caps = {key: value for key, value in enumerate(labels_caps)}\n",
        "\n",
        "def create_probability_fig(model_prediction):\n",
        "    df_temp = pd.DataFrame(model_prediction, columns=labels_dict_caps.values())\n",
        "    df_temp = df_temp.transpose().reset_index()\n",
        "    df_temp.columns = ['Label','Probability']\n",
        "    fig = px.bar(df_temp, x='Label', y='Probability')\n",
        "    return fig\n",
        "\n",
        "\n",
        "# Create the Application\n",
        "st.title('Letter and Didgit Prediction')\n",
        "\n",
        "# Create a drawing canvas with desired properties\n",
        "canvas_result = st_canvas(\n",
        "    fill_color=\"#ffffff\",\n",
        "    stroke_width=10,\n",
        "    stroke_color='#ffffff',\n",
        "    background_color=\"#000000\",\n",
        "    height=150,\n",
        "    width=150,\n",
        "    drawing_mode='freedraw',\n",
        "    key=\"canvas\",\n",
        ")\n",
        "\n",
        "# Show that the resized image looks like\n",
        "st.markdown(\"What the model see's as input:\")\n",
        "if canvas_result.image_data is not None:\n",
        "    img = cv2.resize(canvas_result.image_data.astype('uint8'), (28, 28))\n",
        "    img_rescaling = cv2.resize(img, (192, 192), interpolation=cv2.INTER_NEAREST)\n",
        "    st.write('Input Image')\n",
        "    st.image(img_rescaling)\n",
        "\n",
        "# Generate the prediciton based on the users drawings\n",
        "if st.button('Predict'):\n",
        "    x_user_input = cv2.cvtColor(img, cv2.COLOR_BGR2GRAY)\n",
        "    pred = model.predict(x_user_input.reshape(1, 28, 28, 1))\n",
        "    pred_label = labels_dict_caps[pred.argmax()]\n",
        "    st.write(f'Predicted Label: {pred_label}')\n",
        "\n",
        "    # Create a plotly barchart of the predicted probablities\n",
        "    fig = create_probability_fig(pred)\n",
        "    st.plotly_chart(fig, use_container_width = True)\n"
      ],
      "execution_count": 8,
      "outputs": [
        {
          "output_type": "stream",
          "name": "stdout",
          "text": [
            "Overwriting app.py\n"
          ]
        }
      ]
    },
    {
      "cell_type": "markdown",
      "metadata": {
        "id": "7QUTYevkGKbQ"
      },
      "source": [
        "Load an example app for reference"
      ]
    },
    {
      "cell_type": "code",
      "metadata": {
        "colab": {
          "base_uri": "https://localhost:8080/"
        },
        "id": "6nvz6riTqtS8",
        "outputId": "2e812fb8-77a8-4eef-df73-de57e83aa8f4"
      },
      "source": [
        "!streamlit run app.py & npx localtunnel --port 8501"
      ],
      "execution_count": 9,
      "outputs": [
        {
          "output_type": "stream",
          "name": "stdout",
          "text": [
            "\u001b[0m\n",
            "\u001b[34m\u001b[1m  You can now view your Streamlit app in your browser.\u001b[0m\n",
            "\u001b[0m\n",
            "\u001b[34m  Network URL: \u001b[0m\u001b[1mhttp://172.28.0.2:8501\u001b[0m\n",
            "\u001b[34m  External URL: \u001b[0m\u001b[1mhttp://35.236.172.134:8501\u001b[0m\n",
            "\u001b[0m\n",
            "\u001b[K\u001b[?25hnpx: installed 22 in 4.337s\n",
            "your url is: https://wise-otter-53.loca.lt\n",
            "2021-12-07 05:59:26.033768: E tensorflow/stream_executor/cuda/cuda_driver.cc:271] failed call to cuInit: CUDA_ERROR_NO_DEVICE: no CUDA-capable device is detected\n",
            "\u001b[34m  Stopping...\u001b[0m\n",
            "^C\n"
          ]
        }
      ]
    },
    {
      "cell_type": "code",
      "metadata": {
        "id": "enwfwhLcFs1q"
      },
      "source": [
        ""
      ],
      "execution_count": null,
      "outputs": []
    },
    {
      "cell_type": "code",
      "metadata": {
        "id": "fJx3DzfdFszv"
      },
      "source": [
        ""
      ],
      "execution_count": null,
      "outputs": []
    },
    {
      "cell_type": "code",
      "metadata": {
        "id": "3ahenVL3Fsxz"
      },
      "source": [
        ""
      ],
      "execution_count": null,
      "outputs": []
    },
    {
      "cell_type": "code",
      "metadata": {
        "id": "wZXJejrZFstz"
      },
      "source": [
        ""
      ],
      "execution_count": null,
      "outputs": []
    },
    {
      "cell_type": "code",
      "metadata": {
        "id": "L0N4obihFsrr"
      },
      "source": [
        ""
      ],
      "execution_count": null,
      "outputs": []
    },
    {
      "cell_type": "code",
      "metadata": {
        "id": "yYL_ru2hFsp_"
      },
      "source": [
        ""
      ],
      "execution_count": null,
      "outputs": []
    },
    {
      "cell_type": "code",
      "metadata": {
        "id": "asiVmQLSFslo"
      },
      "source": [
        ""
      ],
      "execution_count": null,
      "outputs": []
    },
    {
      "cell_type": "code",
      "metadata": {
        "id": "3P9xHrtrFsiV"
      },
      "source": [
        ""
      ],
      "execution_count": null,
      "outputs": []
    },
    {
      "cell_type": "code",
      "metadata": {
        "id": "h_Z1bzFZ9TsH"
      },
      "source": [
        ""
      ],
      "execution_count": null,
      "outputs": []
    }
  ]
}