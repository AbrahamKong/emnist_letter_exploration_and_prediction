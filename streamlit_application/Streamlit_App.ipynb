{
  "nbformat": 4,
  "nbformat_minor": 0,
  "metadata": {
    "colab": {
      "name": "Streamlit_App.ipynb",
      "provenance": [],
      "collapsed_sections": [],
      "authorship_tag": "ABX9TyPFoXg+0faNqc6tqL1PeIVg",
      "include_colab_link": true
    },
    "kernelspec": {
      "name": "python3",
      "display_name": "Python 3"
    },
    "language_info": {
      "name": "python"
    }
  },
  "cells": [
    {
      "cell_type": "markdown",
      "metadata": {
        "id": "view-in-github",
        "colab_type": "text"
      },
      "source": [
        "<a href=\"https://colab.research.google.com/github/coryroyce/emnist_letter_exploration_and_prediction/blob/main/streamlit_application/Streamlit_App.ipynb\" target=\"_parent\"><img src=\"https://colab.research.google.com/assets/colab-badge.svg\" alt=\"Open In Colab\"/></a>"
      ]
    },
    {
      "cell_type": "markdown",
      "metadata": {
        "id": "4X-J0Qe4zE4S"
      },
      "source": [
        "# Streamlit App - Letter Classification\n",
        "\n",
        "Updated: 12/6/2021"
      ]
    },
    {
      "cell_type": "markdown",
      "metadata": {
        "id": "h_wwtqVmFuC4"
      },
      "source": [
        "Goal: Create an app wrapper for the letter prediction model. "
      ]
    },
    {
      "cell_type": "markdown",
      "metadata": {
        "id": "dZhkwl-_GCoi"
      },
      "source": [
        "# Install Streamlit"
      ]
    },
    {
      "cell_type": "code",
      "metadata": {
        "id": "Jc8PDdp_FtIr"
      },
      "source": [
        "!pip install streamlit -q\n",
        "!pip install streamlit-drawable-canvas\n",
        "!pip install ipykernel>=5.1.2\n",
        "!pip install pydeck\n",
        "\n",
        "# Clear output for this cell\n",
        "from IPython.display import clear_output\n",
        "clear_output()"
      ],
      "execution_count": 17,
      "outputs": []
    },
    {
      "cell_type": "markdown",
      "metadata": {
        "id": "RQ5uvWHPklkC"
      },
      "source": [
        "Download Gihub repo to current Colab environment"
      ]
    },
    {
      "cell_type": "code",
      "metadata": {
        "colab": {
          "base_uri": "https://localhost:8080/"
        },
        "id": "1AHPjQPaW_5I",
        "outputId": "66ad6a1c-ec0a-4115-ebd9-07bea9f3e901"
      },
      "source": [
        "!git clone https://github.com/coryroyce/emnist_letter_exploration_and_prediction"
      ],
      "execution_count": 1,
      "outputs": [
        {
          "output_type": "stream",
          "name": "stdout",
          "text": [
            "--2021-12-07 15:26:24--  https://github.com/coryroyce/emnist_letter_exploration_and_prediction/blob/main/streamlit_application/model_conv_v01.h5\n",
            "Resolving github.com (github.com)... 192.30.255.113\n",
            "Connecting to github.com (github.com)|192.30.255.113|:443... connected.\n",
            "HTTP request sent, awaiting response... 200 OK\n",
            "Length: unspecified [text/html]\n",
            "Saving to: ‘model_conv_v01.h5’\n",
            "\n",
            "model_conv_v01.h5       [ <=>                ] 164.15K  --.-KB/s    in 0.02s   \n",
            "\n",
            "2021-12-07 15:26:25 (7.09 MB/s) - ‘model_conv_v01.h5’ saved [168088]\n",
            "\n"
          ]
        }
      ]
    },
    {
      "cell_type": "markdown",
      "metadata": {
        "id": "LM7XTUlqk2Oa"
      },
      "source": [
        "Create a app.py file for sreamlit to run"
      ]
    },
    {
      "cell_type": "code",
      "metadata": {
        "colab": {
          "base_uri": "https://localhost:8080/"
        },
        "id": "fxaxZK7uTLIg",
        "outputId": "92208b8f-6fc5-474a-9eb6-e94d8f6a279c"
      },
      "source": [
        "%%writefile app.py\n",
        "import streamlit as st\n",
        "from streamlit_drawable_canvas import st_canvas\n",
        "import tensorflow as tf\n",
        "from tensorflow import keras\n",
        "import cv2\n",
        "import numpy as np\n",
        "import pandas as pd\n",
        "import plotly.express as px\n",
        "\n",
        "\n",
        "# Cache model to load faster an only do it once rather than on every refresh\n",
        "@st.cache(allow_output_mutation = True)\n",
        "def load_models():\n",
        "  # Load in the pre-trained model\n",
        "  model_file_path = '/content/emnist_letter_exploration_and_prediction/streamlit_application/model_conv_v01.h5'\n",
        "  model = tf.keras.models.load_model(model_file_path)\n",
        "  return model\n",
        "\n",
        "# Load the models\n",
        "model = load_models()\n",
        "\n",
        "# Define some valiables and helper functions\n",
        "labels_caps = [\n",
        "               'A','B','C','D','E','F','G','H','I','J','K','L','M','N','O','P','Q','R','S','T','U','V','W','X','Y','Z',\n",
        "              ]\n",
        "labels_dict_caps = {key: value for key, value in enumerate(labels_caps)}\n",
        "\n",
        "# Define the Plotyly function\n",
        "def create_probability_fig(model_prediction):\n",
        "    df_temp = pd.DataFrame(model_prediction, columns=labels_dict_caps.values())\n",
        "    df_temp = df_temp.transpose().reset_index()\n",
        "    df_temp.columns = ['Label','Probability']\n",
        "    fig = px.bar(df_temp, x='Label', y='Probability')\n",
        "    return fig\n",
        "\n",
        "\n",
        "# Create the Application\n",
        "st.title('Letter and Didgit Prediction')\n",
        "\n",
        "# Create a 2 column Streamlit layout\n",
        "col1, col2 = st.columns(2)\n",
        "\n",
        "with col1:\n",
        "  st.markdown('Draw a capital letter here:')\n",
        "  # Create a drawing canvas with desired properties\n",
        "  canvas_result = st_canvas(\n",
        "      fill_color=\"#ffffff\",\n",
        "      stroke_width=10,\n",
        "      stroke_color='#ffffff',\n",
        "      background_color=\"#000000\",\n",
        "      height=200,\n",
        "      width=200,\n",
        "      drawing_mode='freedraw',\n",
        "      key=\"canvas\",\n",
        "  )\n",
        "\n",
        "with col2:\n",
        "  # Show that the resized image looks like\n",
        "  st.markdown(\"What the model see's as input:\")\n",
        "  if canvas_result.image_data is not None:\n",
        "      img = cv2.resize(canvas_result.image_data.astype('uint8'), (28, 28))\n",
        "      img_rescaling = cv2.resize(img, (200, 200), interpolation=cv2.INTER_NEAREST)\n",
        "      st.image(img_rescaling)\n",
        "\n",
        "# Generate the prediciton based on the users drawings\n",
        "if st.button('Predict'):\n",
        "    x_user_input = cv2.cvtColor(img, cv2.COLOR_BGR2GRAY)\n",
        "    pred = model.predict(x_user_input.reshape(1, 28, 28, 1))\n",
        "    pred_label = labels_dict_caps[pred.argmax()]\n",
        "    st.write(f'Predicted Label: {pred_label}')\n",
        "\n",
        "    # Create a plotly barchart of the predicted probablities\n",
        "    fig = create_probability_fig(pred)\n",
        "    st.plotly_chart(fig, use_container_width = True)\n"
      ],
      "execution_count": 30,
      "outputs": [
        {
          "output_type": "stream",
          "name": "stdout",
          "text": [
            "Overwriting app.py\n"
          ]
        }
      ]
    },
    {
      "cell_type": "markdown",
      "metadata": {
        "id": "7QUTYevkGKbQ"
      },
      "source": [
        "Load an example app for reference"
      ]
    },
    {
      "cell_type": "code",
      "metadata": {
        "colab": {
          "base_uri": "https://localhost:8080/"
        },
        "id": "6nvz6riTqtS8",
        "outputId": "f94b2666-6259-43a6-e930-e639e40245a1"
      },
      "source": [
        "!streamlit run app.py & npx localtunnel --port 8501"
      ],
      "execution_count": 31,
      "outputs": [
        {
          "output_type": "stream",
          "name": "stdout",
          "text": [
            "\u001b[K\u001b[?25hnpx: installed 22 in 2.813s\n",
            "your url is: https://pretty-fireant-68.loca.lt\n",
            "\u001b[0m\n",
            "\u001b[34m\u001b[1m  You can now view your Streamlit app in your browser.\u001b[0m\n",
            "\u001b[0m\n",
            "\u001b[34m  Network URL: \u001b[0m\u001b[1mhttp://172.28.0.2:8501\u001b[0m\n",
            "\u001b[34m  External URL: \u001b[0m\u001b[1mhttp://35.247.69.149:8501\u001b[0m\n",
            "\u001b[0m\n",
            "2021-12-07 18:25:13.846588: E tensorflow/stream_executor/cuda/cuda_driver.cc:271] failed call to cuInit: CUDA_ERROR_NO_DEVICE: no CUDA-capable device is detected\n",
            "\u001b[34m  Stopping...\u001b[0m\n",
            "^C\n"
          ]
        }
      ]
    },
    {
      "cell_type": "markdown",
      "metadata": {
        "id": "ylTQiQvnWGxQ"
      },
      "source": [
        "# Reference"
      ]
    },
    {
      "cell_type": "markdown",
      "metadata": {
        "id": "JibfVajkWJEM"
      },
      "source": [
        "Method for insering a Drawable Canvas and have that converted back to a python ML model was inspired by bhupendrak9917's notebook [Github](https://github.com/bhupendrak9917/My-AI-Projects/tree/main/MNIST_Streamlit)"
      ]
    }
  ]
}